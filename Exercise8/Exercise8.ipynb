{
 "cells": [
  {
   "cell_type": "code",
   "execution_count": 1,
   "metadata": {},
   "outputs": [],
   "source": [
    "import numpy as np\n",
    "import pandas as pd\n",
    "import timeit"
   ]
  },
  {
   "cell_type": "code",
   "execution_count": 2,
   "metadata": {},
   "outputs": [],
   "source": [
    "def msp_to_df(\n",
    "    input_file,\n",
    "    max_seq_len=30,\n",
    "    min_ce=36,\n",
    "    max_ce=40,\n",
    "    mz_min=135,\n",
    "    mz_max=1400,\n",
    "):\n",
    "    \"\"\"\n",
    "    Function to read spectrum data from .msp file and convert to dataframe.\n",
    "    Args:\n",
    "        input_file (str): path to .msp file\n",
    "        max_seq_len (int): maximum acceptable sequence length\n",
    "        min_ce (int): minimum collision energy of spectra to be included in df\n",
    "        max_ce (int): maximum collision energy of spectra to be included in df\n",
    "        mz_min (int): lower boundary for m/z to be included in df\n",
    "        mz_max (int): lower boundary for m/z to be included in df\n",
    "\n",
    "    Returns:\n",
    "        df (pd.DataFrame or np.array): spectrum information within defined parameters [n_spectra, n_features]\n",
    "        seqs (pd.DataFrame or np.array): sequences\n",
    "    \"\"\"\n",
    "    df = pd.DataFrame()\n",
    "    seqs = pd.DataFrame()\n",
    "    \n",
    "    with open(input_file) as ms_data:\n",
    "        read_ms_data = ms_data.read().split('\\n\\n')\n",
    "        \n",
    "        #for line in ms_data:\n",
    "        #    if line.startswith('Name'):\n",
    "        #        print(line)\n",
    "        #    elif not line.startswith(('MW', 'Comment', 'Num')):\n",
    "        #        pass\n",
    "    \n",
    "\n",
    "    return ms_spectra_list #df, seqs"
   ]
  },
  {
   "cell_type": "code",
   "execution_count": 3,
   "metadata": {},
   "outputs": [
    {
     "ename": "NameError",
     "evalue": "name 'ms_spectra_list' is not defined",
     "output_type": "error",
     "traceback": [
      "\u001B[1;31m---------------------------------------------------------------------------\u001B[0m",
      "\u001B[1;31mNameError\u001B[0m                                 Traceback (most recent call last)",
      "\u001B[1;32m<ipython-input-3-dad139ed2e82>\u001B[0m in \u001B[0;36m<module>\u001B[1;34m\u001B[0m\n\u001B[1;32m----> 1\u001B[1;33m \u001B[0mmsp_to_df\u001B[0m\u001B[1;33m(\u001B[0m\u001B[1;34m'../data/cptac2_mouse_hcd_selected.msp'\u001B[0m\u001B[1;33m)\u001B[0m\u001B[1;33m\u001B[0m\u001B[1;33m\u001B[0m\u001B[0m\n\u001B[0m\u001B[0;32m      2\u001B[0m \u001B[1;33m\u001B[0m\u001B[0m\n",
      "\u001B[1;32m<ipython-input-2-e334c5f72d64>\u001B[0m in \u001B[0;36mmsp_to_df\u001B[1;34m(input_file, max_seq_len, min_ce, max_ce, mz_min, mz_max)\u001B[0m\n\u001B[0;32m     34\u001B[0m \u001B[1;33m\u001B[0m\u001B[0m\n\u001B[0;32m     35\u001B[0m \u001B[1;33m\u001B[0m\u001B[0m\n\u001B[1;32m---> 36\u001B[1;33m     \u001B[1;32mreturn\u001B[0m \u001B[0mms_spectra_list\u001B[0m \u001B[1;31m#df, seqs\u001B[0m\u001B[1;33m\u001B[0m\u001B[1;33m\u001B[0m\u001B[0m\n\u001B[0m\u001B[0;32m     37\u001B[0m \u001B[1;33m\u001B[0m\u001B[0m\n",
      "\u001B[1;31mNameError\u001B[0m: name 'ms_spectra_list' is not defined"
     ]
    }
   ],
   "source": [
    "msp_to_df('../data/cptac2_mouse_hcd_selected.msp')"
   ]
  },
  {
   "cell_type": "code",
   "execution_count": null,
   "metadata": {},
   "outputs": [],
   "source": [
    "with open('../data/cptac2_mouse_hcd_selected.msp', 'r') as msp_data:\n",
    "    read_msp_data = msp_data.read().split('\\n\\n')\n",
    "    df = pd.DataFrame(read_msp_data,columns=['Column_Name'])\n",
    "    df = df.Column_Name.str.split('Name: ', expand=True)\n",
    "    df.columns =['Index', 'All_data'] \n",
    "    df = df.All_data.str.split('/', 1, expand=True)\n",
    "    df.columns =['Sequence', 'Data'] \n",
    "    df = df[df['Sequence'].str.len().lt(31)]\n",
    "    \n",
    "    dat = df.Data.str.split('eV', 1, expand=True)\n",
    "    dat.columns = ['Data_I_want', 'Other_data']\n",
    "    dat = dat.Data_I_want.str.split('_', 2, expand=True)\n",
    "    dat.columns = ['One', 'Two', 'ce']\n",
    "    \n",
    "    #df['collision_energy'] = pd.to_numeric(dat['ce'])\n",
    "    #df = df[df['collision_energy'].score > 40]\n",
    "    #df = df[df['collision_energy'].score < 36]\n",
    "    \n",
    "print(dat['ce'][2950:2960])"
   ]
  },
  {
   "cell_type": "code",
   "execution_count": null,
   "metadata": {},
   "outputs": [],
   "source": []
  }
 ],
 "metadata": {
  "kernelspec": {
   "display_name": "Python 3",
   "language": "python",
   "name": "python3"
  },
  "language_info": {
   "codemirror_mode": {
    "name": "ipython",
    "version": 3
   },
   "file_extension": ".py",
   "mimetype": "text/x-python",
   "name": "python",
   "nbconvert_exporter": "python",
   "pygments_lexer": "ipython3",
   "version": "3.9.1"
  }
 },
 "nbformat": 4,
 "nbformat_minor": 1
}