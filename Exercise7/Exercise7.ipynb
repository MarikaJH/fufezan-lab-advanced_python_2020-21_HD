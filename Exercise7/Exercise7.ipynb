{
 "cells": [
  {
   "cell_type": "code",
   "execution_count": 1,
   "metadata": {},
   "outputs": [],
   "source": [
    "import pandas as pd\n",
    "import ssl\n",
    "import json\n",
    "import urllib\n",
    "import plotly.graph_objs as go\n",
    "pd.set_option(\"max_rows\", 100)"
   ]
  },
  {
   "cell_type": "code",
   "execution_count": 2,
   "metadata": {},
   "outputs": [],
   "source": [
    "covid_url = \"https://opendata.ecdc.europa.eu/covid19/casedistribution/json/\"\n",
    "ssl._create_default_https_context = ssl._create_unverified_context\n",
    "covid_json_unformated = urllib.request.urlopen(covid_url).read().decode(\"utf-8\")\n",
    "covid_json = json.loads(covid_json_unformated)\n",
    "cdf = pd.DataFrame(covid_json['records'])"
   ]
  },
  {
   "cell_type": "code",
   "execution_count": 3,
   "metadata": {
    "scrolled": true
   },
   "outputs": [
    {
     "data": {
      "text/plain": "          dateRep year_week  cases_weekly  deaths_weekly  \\\n0      08/02/2021   2021-05           238              8   \n1      01/02/2021   2021-04           267             16   \n2      25/01/2021   2021-03           713             43   \n3      18/01/2021   2021-02           557             45   \n4      11/01/2021   2021-01           675             71   \n...           ...       ...           ...            ...   \n10642  20/04/2020   2020-16            11              0   \n10643  13/04/2020   2020-15             5              2   \n10644  06/04/2020   2020-14             2              0   \n10645  30/03/2020   2020-13             5              1   \n10646  23/03/2020   2020-12             2              0   \n\n      countriesAndTerritories geoId countryterritoryCode  popData2019  \\\n0                 Afghanistan    AF                  AFG   38041757.0   \n1                 Afghanistan    AF                  AFG   38041757.0   \n2                 Afghanistan    AF                  AFG   38041757.0   \n3                 Afghanistan    AF                  AFG   38041757.0   \n4                 Afghanistan    AF                  AFG   38041757.0   \n...                       ...   ...                  ...          ...   \n10642                Zimbabwe    ZW                  ZWE   14645473.0   \n10643                Zimbabwe    ZW                  ZWE   14645473.0   \n10644                Zimbabwe    ZW                  ZWE   14645473.0   \n10645                Zimbabwe    ZW                  ZWE   14645473.0   \n10646                Zimbabwe    ZW                  ZWE   14645473.0   \n\n      continentExp notification_rate_per_100000_population_14-days  \n0             Asia                                            1.33  \n1             Asia                                            2.58  \n2             Asia                                            3.34  \n3             Asia                                            3.24  \n4             Asia                                            4.15  \n...            ...                                             ...  \n10642       Africa                                            0.11  \n10643       Africa                                            0.05  \n10644       Africa                                            0.05  \n10645       Africa                                            0.05  \n10646       Africa                                                  \n\n[10647 rows x 10 columns]",
      "text/html": "<div>\n<style scoped>\n    .dataframe tbody tr th:only-of-type {\n        vertical-align: middle;\n    }\n\n    .dataframe tbody tr th {\n        vertical-align: top;\n    }\n\n    .dataframe thead th {\n        text-align: right;\n    }\n</style>\n<table border=\"1\" class=\"dataframe\">\n  <thead>\n    <tr style=\"text-align: right;\">\n      <th></th>\n      <th>dateRep</th>\n      <th>year_week</th>\n      <th>cases_weekly</th>\n      <th>deaths_weekly</th>\n      <th>countriesAndTerritories</th>\n      <th>geoId</th>\n      <th>countryterritoryCode</th>\n      <th>popData2019</th>\n      <th>continentExp</th>\n      <th>notification_rate_per_100000_population_14-days</th>\n    </tr>\n  </thead>\n  <tbody>\n    <tr>\n      <th>0</th>\n      <td>08/02/2021</td>\n      <td>2021-05</td>\n      <td>238</td>\n      <td>8</td>\n      <td>Afghanistan</td>\n      <td>AF</td>\n      <td>AFG</td>\n      <td>38041757.0</td>\n      <td>Asia</td>\n      <td>1.33</td>\n    </tr>\n    <tr>\n      <th>1</th>\n      <td>01/02/2021</td>\n      <td>2021-04</td>\n      <td>267</td>\n      <td>16</td>\n      <td>Afghanistan</td>\n      <td>AF</td>\n      <td>AFG</td>\n      <td>38041757.0</td>\n      <td>Asia</td>\n      <td>2.58</td>\n    </tr>\n    <tr>\n      <th>2</th>\n      <td>25/01/2021</td>\n      <td>2021-03</td>\n      <td>713</td>\n      <td>43</td>\n      <td>Afghanistan</td>\n      <td>AF</td>\n      <td>AFG</td>\n      <td>38041757.0</td>\n      <td>Asia</td>\n      <td>3.34</td>\n    </tr>\n    <tr>\n      <th>3</th>\n      <td>18/01/2021</td>\n      <td>2021-02</td>\n      <td>557</td>\n      <td>45</td>\n      <td>Afghanistan</td>\n      <td>AF</td>\n      <td>AFG</td>\n      <td>38041757.0</td>\n      <td>Asia</td>\n      <td>3.24</td>\n    </tr>\n    <tr>\n      <th>4</th>\n      <td>11/01/2021</td>\n      <td>2021-01</td>\n      <td>675</td>\n      <td>71</td>\n      <td>Afghanistan</td>\n      <td>AF</td>\n      <td>AFG</td>\n      <td>38041757.0</td>\n      <td>Asia</td>\n      <td>4.15</td>\n    </tr>\n    <tr>\n      <th>...</th>\n      <td>...</td>\n      <td>...</td>\n      <td>...</td>\n      <td>...</td>\n      <td>...</td>\n      <td>...</td>\n      <td>...</td>\n      <td>...</td>\n      <td>...</td>\n      <td>...</td>\n    </tr>\n    <tr>\n      <th>10642</th>\n      <td>20/04/2020</td>\n      <td>2020-16</td>\n      <td>11</td>\n      <td>0</td>\n      <td>Zimbabwe</td>\n      <td>ZW</td>\n      <td>ZWE</td>\n      <td>14645473.0</td>\n      <td>Africa</td>\n      <td>0.11</td>\n    </tr>\n    <tr>\n      <th>10643</th>\n      <td>13/04/2020</td>\n      <td>2020-15</td>\n      <td>5</td>\n      <td>2</td>\n      <td>Zimbabwe</td>\n      <td>ZW</td>\n      <td>ZWE</td>\n      <td>14645473.0</td>\n      <td>Africa</td>\n      <td>0.05</td>\n    </tr>\n    <tr>\n      <th>10644</th>\n      <td>06/04/2020</td>\n      <td>2020-14</td>\n      <td>2</td>\n      <td>0</td>\n      <td>Zimbabwe</td>\n      <td>ZW</td>\n      <td>ZWE</td>\n      <td>14645473.0</td>\n      <td>Africa</td>\n      <td>0.05</td>\n    </tr>\n    <tr>\n      <th>10645</th>\n      <td>30/03/2020</td>\n      <td>2020-13</td>\n      <td>5</td>\n      <td>1</td>\n      <td>Zimbabwe</td>\n      <td>ZW</td>\n      <td>ZWE</td>\n      <td>14645473.0</td>\n      <td>Africa</td>\n      <td>0.05</td>\n    </tr>\n    <tr>\n      <th>10646</th>\n      <td>23/03/2020</td>\n      <td>2020-12</td>\n      <td>2</td>\n      <td>0</td>\n      <td>Zimbabwe</td>\n      <td>ZW</td>\n      <td>ZWE</td>\n      <td>14645473.0</td>\n      <td>Africa</td>\n      <td></td>\n    </tr>\n  </tbody>\n</table>\n<p>10647 rows × 10 columns</p>\n</div>"
     },
     "execution_count": 3,
     "metadata": {},
     "output_type": "execute_result"
    }
   ],
   "source": [
    "cdf"
   ]
  },
  {
   "cell_type": "code",
   "execution_count": 4,
   "metadata": {},
   "outputs": [],
   "source": [
    "cdf.rename(\n",
    "    columns={\n",
    "        \"notification_rate_per_100000_population_14-days\": \"14d_incidence\",\n",
    "        \"geoId\" : \"geo_Id\",\n",
    "        \"countriesAndTerritories\" : \"countries_and_territories\",\n",
    "        \"continentExp\" : \"continent\"\n",
    "    },\n",
    "    inplace=True\n",
    ")"
   ]
  },
  {
   "cell_type": "code",
   "execution_count": 5,
   "metadata": {},
   "outputs": [
    {
     "data": {
      "text/plain": "dateRep                      datetime64[ns]\nyear_week                            object\ncases_weekly                          int64\ndeaths_weekly                         int64\ncountries_and_territories            object\ngeo_Id                               object\ncountryterritoryCode                 object\npopData2019                         float64\ncontinent                            object\n14d_incidence                       float64\ndtype: object"
     },
     "execution_count": 5,
     "metadata": {},
     "output_type": "execute_result"
    }
   ],
   "source": [
    "cdf['dateRep'] = pd.to_datetime(cdf['dateRep'])\n",
    "cdf['14d_incidence'] = pd.to_numeric(cdf['14d_incidence'])\n",
    "cdf.dtypes"
   ]
  },
  {
   "cell_type": "code",
   "execution_count": 6,
   "metadata": {},
   "outputs": [],
   "source": [
    "cdf['delta_time_since_start_of_recording'] = cdf['dateRep'] - min(cdf['dateRep'])"
   ]
  },
  {
   "cell_type": "code",
   "execution_count": 7,
   "metadata": {
    "scrolled": true
   },
   "outputs": [
    {
     "data": {
      "text/plain": "       cases_weekly  deaths_weekly   popData2019  14d_incidence  \\\ncount  1.064700e+04   10647.000000  1.062100e+04   10408.000000   \nmean   1.000194e+04     218.193200  4.007615e+07      86.880177   \nstd    5.912234e+04    1035.493355  1.506333e+08     203.132321   \nmin   -3.864000e+03    -875.000000  8.150000e+02    -132.600000   \n25%    9.000000e+00       0.000000  1.269670e+06       0.960000   \n50%    1.990000e+02       2.000000  7.044639e+06       8.750000   \n75%    2.697000e+03      43.000000  2.851583e+07      74.600000   \nmax    1.782792e+06   23518.000000  1.433784e+09    4343.440000   \n\n      delta_time_since_start_of_recording  \ncount                               10647  \nmean          226 days 06:38:34.792899408  \nstd           134 days 13:20:23.413722106  \nmin                       0 days 00:00:00  \n25%                     133 days 00:00:00  \n50%                     213 days 00:00:00  \n75%                     315 days 00:00:00  \nmax                     665 days 00:00:00  ",
      "text/html": "<div>\n<style scoped>\n    .dataframe tbody tr th:only-of-type {\n        vertical-align: middle;\n    }\n\n    .dataframe tbody tr th {\n        vertical-align: top;\n    }\n\n    .dataframe thead th {\n        text-align: right;\n    }\n</style>\n<table border=\"1\" class=\"dataframe\">\n  <thead>\n    <tr style=\"text-align: right;\">\n      <th></th>\n      <th>cases_weekly</th>\n      <th>deaths_weekly</th>\n      <th>popData2019</th>\n      <th>14d_incidence</th>\n      <th>delta_time_since_start_of_recording</th>\n    </tr>\n  </thead>\n  <tbody>\n    <tr>\n      <th>count</th>\n      <td>1.064700e+04</td>\n      <td>10647.000000</td>\n      <td>1.062100e+04</td>\n      <td>10408.000000</td>\n      <td>10647</td>\n    </tr>\n    <tr>\n      <th>mean</th>\n      <td>1.000194e+04</td>\n      <td>218.193200</td>\n      <td>4.007615e+07</td>\n      <td>86.880177</td>\n      <td>226 days 06:38:34.792899408</td>\n    </tr>\n    <tr>\n      <th>std</th>\n      <td>5.912234e+04</td>\n      <td>1035.493355</td>\n      <td>1.506333e+08</td>\n      <td>203.132321</td>\n      <td>134 days 13:20:23.413722106</td>\n    </tr>\n    <tr>\n      <th>min</th>\n      <td>-3.864000e+03</td>\n      <td>-875.000000</td>\n      <td>8.150000e+02</td>\n      <td>-132.600000</td>\n      <td>0 days 00:00:00</td>\n    </tr>\n    <tr>\n      <th>25%</th>\n      <td>9.000000e+00</td>\n      <td>0.000000</td>\n      <td>1.269670e+06</td>\n      <td>0.960000</td>\n      <td>133 days 00:00:00</td>\n    </tr>\n    <tr>\n      <th>50%</th>\n      <td>1.990000e+02</td>\n      <td>2.000000</td>\n      <td>7.044639e+06</td>\n      <td>8.750000</td>\n      <td>213 days 00:00:00</td>\n    </tr>\n    <tr>\n      <th>75%</th>\n      <td>2.697000e+03</td>\n      <td>43.000000</td>\n      <td>2.851583e+07</td>\n      <td>74.600000</td>\n      <td>315 days 00:00:00</td>\n    </tr>\n    <tr>\n      <th>max</th>\n      <td>1.782792e+06</td>\n      <td>23518.000000</td>\n      <td>1.433784e+09</td>\n      <td>4343.440000</td>\n      <td>665 days 00:00:00</td>\n    </tr>\n  </tbody>\n</table>\n</div>"
     },
     "execution_count": 7,
     "metadata": {},
     "output_type": "execute_result"
    }
   ],
   "source": [
    "cdf.describe()"
   ]
  },
  {
   "cell_type": "code",
   "execution_count": 8,
   "metadata": {},
   "outputs": [],
   "source": [
    "# remove negative values\n",
    "for variable in ['cases_weekly', '14d_incidence', 'deaths_weekly']:\n",
    "    mask1 = cdf[variable] < 0\n",
    "    for index in cdf[mask1].index[:]:\n",
    "        cdf.loc[index, variable] = float('NaN')"
   ]
  },
  {
   "cell_type": "code",
   "execution_count": 9,
   "metadata": {},
   "outputs": [
    {
     "ename": "NameError",
     "evalue": "name 'copy_grp_country' is not defined",
     "output_type": "error",
     "traceback": [
      "\u001B[1;31m---------------------------------------------------------------------------\u001B[0m",
      "\u001B[1;31mNameError\u001B[0m                                 Traceback (most recent call last)",
      "\u001B[1;32m<ipython-input-9-4fd4047fa6c3>\u001B[0m in \u001B[0;36m<module>\u001B[1;34m\u001B[0m\n\u001B[0;32m     12\u001B[0m \u001B[1;31m#copy_cdf.groupby(['countries_and_territories'])\u001B[0m\u001B[1;33m\u001B[0m\u001B[1;33m\u001B[0m\u001B[1;33m\u001B[0m\u001B[0m\n\u001B[0;32m     13\u001B[0m \u001B[1;31m#copy_grp_country = copy_cdf.groupby(['countries_and_territories']).get_group(country).sort_values('delta_time_since_start_of_recording')\u001B[0m\u001B[1;33m\u001B[0m\u001B[1;33m\u001B[0m\u001B[1;33m\u001B[0m\u001B[0m\n\u001B[1;32m---> 14\u001B[1;33m \u001B[0mcopy_grp_country\u001B[0m\u001B[1;33m\u001B[0m\u001B[1;33m\u001B[0m\u001B[0m\n\u001B[0m\u001B[0;32m     15\u001B[0m \u001B[1;31m#grp_country\u001B[0m\u001B[1;33m\u001B[0m\u001B[1;33m\u001B[0m\u001B[1;33m\u001B[0m\u001B[0m\n\u001B[0;32m     16\u001B[0m \u001B[1;33m\u001B[0m\u001B[0m\n",
      "\u001B[1;31mNameError\u001B[0m: name 'copy_grp_country' is not defined"
     ]
    }
   ],
   "source": [
    "copy_cdf = pd.DataFrame.copy(cdf)\n",
    "#copy_cdf['diff_14d_incidence'] = cdf['14d_incidence']\n",
    "grp = cdf.groupby(['countries_and_territories'])\n",
    "for country in cdf['countries_and_territories'].unique():\n",
    "    grp_country = grp.get_group(country).sort_values('delta_time_since_start_of_recording')\n",
    "    for pos, incidence in enumerate(grp_country['14d_incidence']):\n",
    "        if pos > 0:\n",
    "            copy_cdf.loc[grp_country.index[0], 'diff_14d_incidence'] = (grp_country['14d_incidence'][pos] - grp_country['14d_incidence'][pos-1])/float((grp_country['delta_time_since_start_of_recording'][pos] - grp_country['delta_time_since_start_of_recording'][pos-1]).days)\n",
    "        else:\n",
    "            copy_cdf.loc[grp_country.index[0], 'diff_14d_incidence'] = (grp_country['14d_incidence'][pos])\n",
    "    break\n",
    "#copy_cdf.groupby(['countries_and_territories'])\n",
    "#copy_grp_country = copy_cdf.groupby(['countries_and_territories']).get_group(country).sort_values('delta_time_since_start_of_recording')\n",
    "copy_grp_country\n",
    "#grp_country"
   ]
  },
  {
   "cell_type": "code",
   "execution_count": null,
   "metadata": {},
   "outputs": [],
   "source": [
    "indexed_cdf = cdf.set_index(['continent', 'countries_and_territories', 'delta_time_since_start_of_recording']).sort_values(['continent', 'countries_and_territories', 'delta_time_since_start_of_recording'])\n",
    "\n",
    "d_14d_incidence = []\n",
    "for countries in indexed_cdf.index.get_level_values('countries_and_territories').unique:\n",
    "    for pos, incidence in enumerate(indexed_cdf['14d_incidence']):\n",
    "        if pos > 0:\n",
    "            d_14d_incidence.append((indexed_cdf['14d_incidence'][pos] - indexed_cdf['14d_incidence'][pos-1])/float((indexed_cdf.index.get_level_values('delta_time_since_start_of_recording')[pos] - indexed_cdf.index.get_level_values('delta_time_since_start_of_recording')[pos-1]).days))\n",
    "        else:\n",
    "            d_14d_incidence.append(indexed_cdf['14d_incidence'][pos])\n",
    "print(d_14d_incidence)\n",
    "#for countries in sorted_cdf['countries_and_territories']:\n",
    "#    for pos, incidence in enumerate(sorted_cdf['14d_incidence']):\n",
    "#        if pos == 0:\n",
    "#            sorted_cdf['diff_14d_incidence'][pos] = sorted_cdf['14d_incidence'][pos]\n",
    "#        else:\n",
    "#            sorted_cdf['diff_14d_incidence'][pos] = (sorted_cdf['14d_incidence'][pos] - sorted_cdf['14d_incidence'][pos-1])/(sorted_cdf['deltaTime_since_start_of_recording'][pos] - sorted_cdf['deltaTime_since_start_of_recording'][pos-1])"
   ]
  },
  {
   "cell_type": "code",
   "execution_count": null,
   "metadata": {},
   "outputs": [],
   "source": [
    "copy_grp_country"
   ]
  },
  {
   "cell_type": "code",
   "execution_count": null,
   "metadata": {},
   "outputs": [],
   "source": []
  }
 ],
 "metadata": {
  "kernelspec": {
   "display_name": "Python 3",
   "language": "python",
   "name": "python3"
  },
  "language_info": {
   "codemirror_mode": {
    "name": "ipython",
    "version": 3
   },
   "file_extension": ".py",
   "mimetype": "text/x-python",
   "name": "python",
   "nbconvert_exporter": "python",
   "pygments_lexer": "ipython3",
   "version": "3.9.1"
  }
 },
 "nbformat": 4,
 "nbformat_minor": 1
}